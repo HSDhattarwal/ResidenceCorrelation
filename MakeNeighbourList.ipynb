{
 "cells": [
  {
   "cell_type": "code",
   "execution_count": 1,
   "id": "99dfd9e2",
   "metadata": {},
   "outputs": [],
   "source": [
    "import numpy as np\n",
    "import pandas as pd\n",
    "import math\n",
    "from numba import jit, njit\n",
    "from tqdm import tqdm\n",
    "\n",
    "from scipy import signal\n",
    "import os, sys, time"
   ]
  },
  {
   "cell_type": "code",
   "execution_count": 2,
   "id": "b4aa3cb1",
   "metadata": {},
   "outputs": [],
   "source": [
    "def calc_ACF(array_1D):\n",
    "    \n",
    "    #-------------Normalization\n",
    "    #yunbiased = array_1D - np.mean(array_1D, axis=0)\n",
    "    #ynorm = np.sum(np.power(yunbiased,2), axis=0)\n",
    "\n",
    "    autocor = signal.fftconvolve(array_1D,\n",
    "                                 array_1D[::-1],\n",
    "                                 mode='full')[len(array_1D)-1:]   # / ynorm\n",
    "    return autocor"
   ]
  },
  {
   "cell_type": "code",
   "execution_count": 13,
   "id": "dea9d112",
   "metadata": {},
   "outputs": [],
   "source": [
    "#--------------------Parameters-----------------------------------\n",
    "file_path = '.'\n",
    "file_name = 'AgI-MD-pos-750K.xyz'\n",
    "nframes = 80000\n",
    "delta_t = 0.5\n",
    "numAg = 54\n",
    "numI = 54\n",
    "conv= 0.529177 # in Angstrom\n",
    "box = np.array([0.2883061E+02*conv, 0.2883061E+02*conv, 0.2883061E+02*conv]) # in Angstrom\n",
    "outputf = 'test.dat'"
   ]
  },
  {
   "cell_type": "code",
   "execution_count": 4,
   "id": "5ba6f039",
   "metadata": {},
   "outputs": [],
   "source": [
    "def read_xyz_file(filename):\n",
    "    datatypes = {\"atoms\" : \"str\", \"x\" : np.float64, \"y\" : np.float64, \"z\" : np.float64}\n",
    "    dataframe = pd.read_csv(filename, usecols=[0,1,2,3], delim_whitespace=True, names=['atoms','x','y','z'], dtype=datatypes, on_bad_lines='skip', na_values=['='], comment='#').dropna()  \n",
    "    #dataframe = pd.read_csv(filename, usecols=[0,1,2,3], delim_whitespace=True, names=['atoms','x','y','z']).dropna()   #, dtype=datatypes\n",
    "    cation_rows = dataframe[dataframe['atoms'] == 'Ag']\n",
    "    anion_rows = dataframe[dataframe['atoms'] == 'I']\n",
    "    cation_np = cation_rows[['x', 'y', 'z']].to_numpy()\n",
    "    anion_np = anion_rows[['x', 'y', 'z']].to_numpy()\n",
    "    cations = np.reshape(cation_np, (nframes, numAg, 3))\n",
    "    anions = np.reshape(anion_np, (nframes, numI, 3))\n",
    "    return cations, anions"
   ]
  },
  {
   "cell_type": "code",
   "execution_count": 5,
   "id": "c5e94375",
   "metadata": {},
   "outputs": [],
   "source": [
    "def interatomic_separation(typeA, typeB, box):\n",
    "    # Calculate the squared differences between the x, y, and z coordinates\n",
    "    squared_differences = ((typeA[:, :, np.newaxis, :] - typeB[:, np.newaxis, :, :]) - np.rint((typeA[:, :, np.newaxis, :] - typeB[:, np.newaxis, :, :])/box)*box )** 2\n",
    "    \n",
    "    # Sum the squared differences along the last axis to get the squared distance\n",
    "    squared_distance = np.sum(squared_differences, axis=-1)\n",
    "    \n",
    "    # Take the square root to get the Euclidean distance\n",
    "    distance = np.sqrt(squared_distance)\n",
    "    \n",
    "    return distance \n",
    "    "
   ]
  },
  {
   "cell_type": "code",
   "execution_count": 6,
   "id": "2b31803f",
   "metadata": {},
   "outputs": [],
   "source": [
    "def neighbour_list_changes(distance, numA, nframes, threshold = 3.6):\n",
    "    neighbour_list = {}\n",
    "    \n",
    "    h_list = np.zeros((nframes, numA))\n",
    "    for i in tqdm(range(nframes)):\n",
    "        for j in range(numA):\n",
    "            if (i == 0):\n",
    "                mask = distance[i,j,:] < threshold\n",
    "                neighbour_list[(i,j)] = np.where(mask)\n",
    "            else:\n",
    "                mask = distance[i,j,:] < threshold\n",
    "                neighbour_list[(i,j)] = np.where(mask)\n",
    "                h_list[i,j] = compare_arrays(neighbour_list[(i,j)],neighbour_list[(i-1,j)])\n",
    "    return h_list"
   ]
  },
  {
   "cell_type": "code",
   "execution_count": 7,
   "id": "d1191aa1",
   "metadata": {},
   "outputs": [],
   "source": [
    "def make_neighbour_list(distance, numA, nframes, threshold = 3.6):\n",
    "    h_list = np.zeros((nframes, numA, 10))\n",
    "\n",
    "    for i in range(numA):\n",
    "        for j in tqdm(range(nframes)):\n",
    "            mask = distance[j,i,:] < threshold\n",
    "            neighbours = np.where(mask)[0]\n",
    "            h_list[j,i,:len(neighbours)] = neighbours\n",
    "    return h_list"
   ]
  },
  {
   "cell_type": "code",
   "execution_count": 8,
   "id": "ab16cfa7",
   "metadata": {},
   "outputs": [],
   "source": [
    "def compare_dict(dic1, dic2):\n",
    "    if dic1 == dic2:\n",
    "        return 1\n",
    "    else:\n",
    "        return 0"
   ]
  },
  {
   "cell_type": "code",
   "execution_count": 9,
   "id": "04672320",
   "metadata": {},
   "outputs": [],
   "source": [
    "def compare_arrays(arr1, arr2):\n",
    "    if np.array_equal(arr1, arr2):\n",
    "        return 1\n",
    "    else:\n",
    "        return 0\n",
    "\n",
    "def compare_arrays2(a,b):\n",
    "    if a.shape!=b.shape:\n",
    "        return 0\n",
    "    else:\n",
    "        return bool(np.all(a == b))"
   ]
  },
  {
   "cell_type": "code",
   "execution_count": 10,
   "id": "1840b996",
   "metadata": {},
   "outputs": [],
   "source": [
    "def save_results(fout, time, intensity):\n",
    "    with open(fout, \"w\") as fw:\n",
    "        title = (\"#Time\", \"R_ACF\", \"ps\", \"a.u.\")\n",
    "        np.savetxt(fout, np.c_[time,intensity],\n",
    "                   fmt=\"%10.5f %15.5e\",\n",
    "                   header=\"{0:>10}{1:>16}\\n{2:^11}{3:^20}\".format(*title),\n",
    "                   comments='')"
   ]
  },
  {
   "cell_type": "code",
   "execution_count": 11,
   "id": "771459e3",
   "metadata": {},
   "outputs": [],
   "source": [
    "def main(file_path, file_name):\n",
    "    \"\"\" The mian workflow:\n",
    "    (1) read the coordinates of the selected atoms from file;\n",
    "    (2) calculate the distance between cations and anions;\n",
    "    (3) Make a neighbour list of all anions around cations;\n",
    "    (4) Make a residence list (which is the instances when solvation shell of any cation changes);\n",
    "    (5) Calculate the residence time autocorrelation function of the selected atoms;\n",
    "    (6) save the result to a txt file\n",
    "    \"\"\"\n",
    "    fname = os.path.join(file_path, file_name)\n",
    "    \n",
    "    print(\"Data-reading Started:\")\n",
    "    start = time.process_time()\n",
    "    \n",
    "    cations, anions = read_xyz_file(fname)\n",
    "\n",
    "    read_data_time = time.process_time() - start\n",
    "\n",
    "    print(\"\\n\".join((\"\\nData-reading Completed.\",\n",
    "                     \"Used time: {:.5f} second.\",\n",
    "                     \"The traj. has {:d} time-steps\")).format(read_data_time,\n",
    "                                                              len(cations)))\n",
    " \n",
    "    parsing = time.process_time()\n",
    "\n",
    "    distance = interatomic_separation(cations, anions, box)\n",
    "    data = make_neighbour_list(distance, numAg, nframes)\n",
    "\n",
    "    \n",
    "    finish = time.process_time()\n",
    "    print(\"Job Completed! Used time: {:.5f} second.\".format(finish - parsing))\n",
    "    \n",
    "    return data\n"
   ]
  },
  {
   "cell_type": "code",
   "execution_count": 14,
   "id": "0196f938",
   "metadata": {},
   "outputs": [
    {
     "name": "stdout",
     "output_type": "stream",
     "text": [
      "Data-reading Started:\n",
      "\n",
      "Data-reading Completed.\n",
      "Used time: 6.43362 second.\n",
      "The traj. has 80000 time-steps\n"
     ]
    },
    {
     "name": "stderr",
     "output_type": "stream",
     "text": [
      "100%|██████████████████████████████████████████████████████████| 80000/80000 [00:00<00:00, 202282.34it/s]\n",
      "100%|██████████████████████████████████████████████████████████| 80000/80000 [00:00<00:00, 321434.93it/s]\n",
      "100%|██████████████████████████████████████████████████████████| 80000/80000 [00:00<00:00, 324199.92it/s]\n",
      "100%|██████████████████████████████████████████████████████████| 80000/80000 [00:00<00:00, 320852.18it/s]\n",
      "100%|██████████████████████████████████████████████████████████| 80000/80000 [00:00<00:00, 279542.46it/s]\n",
      "100%|██████████████████████████████████████████████████████████| 80000/80000 [00:00<00:00, 216772.36it/s]\n",
      "100%|██████████████████████████████████████████████████████████| 80000/80000 [00:00<00:00, 272930.51it/s]\n",
      "100%|██████████████████████████████████████████████████████████| 80000/80000 [00:00<00:00, 216334.91it/s]\n",
      "100%|██████████████████████████████████████████████████████████| 80000/80000 [00:00<00:00, 228483.24it/s]\n",
      "100%|██████████████████████████████████████████████████████████| 80000/80000 [00:00<00:00, 268924.68it/s]\n",
      "100%|██████████████████████████████████████████████████████████| 80000/80000 [00:00<00:00, 212644.38it/s]\n",
      "100%|██████████████████████████████████████████████████████████| 80000/80000 [00:00<00:00, 253434.75it/s]\n",
      "100%|██████████████████████████████████████████████████████████| 80000/80000 [00:00<00:00, 233187.08it/s]\n",
      "100%|██████████████████████████████████████████████████████████| 80000/80000 [00:00<00:00, 229104.92it/s]\n",
      "100%|██████████████████████████████████████████████████████████| 80000/80000 [00:00<00:00, 238370.46it/s]\n",
      "100%|██████████████████████████████████████████████████████████| 80000/80000 [00:00<00:00, 246922.03it/s]\n",
      "100%|██████████████████████████████████████████████████████████| 80000/80000 [00:00<00:00, 217419.60it/s]\n",
      "100%|██████████████████████████████████████████████████████████| 80000/80000 [00:00<00:00, 220647.02it/s]\n",
      "100%|██████████████████████████████████████████████████████████| 80000/80000 [00:00<00:00, 281151.61it/s]\n",
      "100%|██████████████████████████████████████████████████████████| 80000/80000 [00:00<00:00, 270363.47it/s]\n",
      "100%|██████████████████████████████████████████████████████████| 80000/80000 [00:00<00:00, 291918.55it/s]\n",
      "100%|██████████████████████████████████████████████████████████| 80000/80000 [00:00<00:00, 281307.88it/s]\n",
      "100%|██████████████████████████████████████████████████████████| 80000/80000 [00:00<00:00, 254343.02it/s]\n",
      "100%|██████████████████████████████████████████████████████████| 80000/80000 [00:00<00:00, 290515.32it/s]\n",
      "100%|██████████████████████████████████████████████████████████| 80000/80000 [00:00<00:00, 197904.97it/s]\n",
      "100%|██████████████████████████████████████████████████████████| 80000/80000 [00:00<00:00, 275255.63it/s]\n",
      "100%|██████████████████████████████████████████████████████████| 80000/80000 [00:00<00:00, 240498.91it/s]\n",
      "100%|██████████████████████████████████████████████████████████| 80000/80000 [00:00<00:00, 245055.94it/s]\n",
      "100%|██████████████████████████████████████████████████████████| 80000/80000 [00:00<00:00, 272757.91it/s]\n",
      "100%|██████████████████████████████████████████████████████████| 80000/80000 [00:00<00:00, 207301.69it/s]\n",
      "100%|██████████████████████████████████████████████████████████| 80000/80000 [00:00<00:00, 259966.58it/s]\n",
      "100%|██████████████████████████████████████████████████████████| 80000/80000 [00:00<00:00, 218318.02it/s]\n",
      "100%|██████████████████████████████████████████████████████████| 80000/80000 [00:00<00:00, 226983.23it/s]\n",
      "100%|██████████████████████████████████████████████████████████| 80000/80000 [00:00<00:00, 255944.15it/s]\n",
      "100%|██████████████████████████████████████████████████████████| 80000/80000 [00:00<00:00, 210562.32it/s]\n",
      "100%|██████████████████████████████████████████████████████████| 80000/80000 [00:00<00:00, 296451.03it/s]\n",
      "100%|██████████████████████████████████████████████████████████| 80000/80000 [00:00<00:00, 265374.31it/s]\n",
      "100%|██████████████████████████████████████████████████████████| 80000/80000 [00:00<00:00, 287537.86it/s]\n",
      "100%|██████████████████████████████████████████████████████████| 80000/80000 [00:00<00:00, 270239.58it/s]\n",
      "100%|██████████████████████████████████████████████████████████| 80000/80000 [00:00<00:00, 256252.59it/s]\n",
      "100%|██████████████████████████████████████████████████████████| 80000/80000 [00:00<00:00, 243500.07it/s]\n",
      "100%|██████████████████████████████████████████████████████████| 80000/80000 [00:00<00:00, 237896.24it/s]\n",
      "100%|██████████████████████████████████████████████████████████| 80000/80000 [00:00<00:00, 268748.49it/s]\n",
      "100%|██████████████████████████████████████████████████████████| 80000/80000 [00:00<00:00, 220558.69it/s]\n",
      "100%|██████████████████████████████████████████████████████████| 80000/80000 [00:00<00:00, 240073.04it/s]\n",
      "100%|██████████████████████████████████████████████████████████| 80000/80000 [00:00<00:00, 277920.78it/s]\n",
      "100%|██████████████████████████████████████████████████████████| 80000/80000 [00:00<00:00, 228751.62it/s]\n",
      "100%|██████████████████████████████████████████████████████████| 80000/80000 [00:00<00:00, 253504.64it/s]\n",
      "100%|██████████████████████████████████████████████████████████| 80000/80000 [00:00<00:00, 237345.14it/s]\n",
      "100%|██████████████████████████████████████████████████████████| 80000/80000 [00:00<00:00, 239055.70it/s]\n",
      "100%|██████████████████████████████████████████████████████████| 80000/80000 [00:00<00:00, 231530.27it/s]\n",
      "100%|██████████████████████████████████████████████████████████| 80000/80000 [00:00<00:00, 237581.93it/s]\n",
      "100%|██████████████████████████████████████████████████████████| 80000/80000 [00:00<00:00, 220401.94it/s]\n",
      "100%|██████████████████████████████████████████████████████████| 80000/80000 [00:00<00:00, 306449.68it/s]\n"
     ]
    },
    {
     "name": "stdout",
     "output_type": "stream",
     "text": [
      "Job Completed! Used time: 44.15739 second.\n"
     ]
    }
   ],
   "source": [
    "######## The main program ########\n",
    "if __name__ == \"__main__\":\n",
    "    n_list = main(file_path, file_name)"
   ]
  },
  {
   "cell_type": "code",
   "execution_count": 15,
   "id": "bb05fd69",
   "metadata": {},
   "outputs": [],
   "source": [
    "new_n_list = n_list.reshape(-1,n_list.shape[-1])"
   ]
  },
  {
   "cell_type": "code",
   "execution_count": 16,
   "id": "753b069a",
   "metadata": {},
   "outputs": [
    {
     "data": {
      "text/plain": [
       "array([[ 4, 14, 15, ...,  0,  0,  0],\n",
       "       [13, 19, 20, ...,  0,  0,  0],\n",
       "       [31, 35, 48, ...,  0,  0,  0],\n",
       "       ...,\n",
       "       [11, 42, 43, ...,  0,  0,  0],\n",
       "       [21, 40, 46, ...,  0,  0,  0],\n",
       "       [ 0, 19, 37, ...,  0,  0,  0]])"
      ]
     },
     "execution_count": 16,
     "metadata": {},
     "output_type": "execute_result"
    }
   ],
   "source": [
    "new_n_list.astype(int)"
   ]
  },
  {
   "cell_type": "code",
   "execution_count": 17,
   "id": "c8bcea5c",
   "metadata": {},
   "outputs": [],
   "source": [
    "np.savetxt('complete_neighbour_list.dat', new_n_list, fmt='%d')"
   ]
  },
  {
   "cell_type": "code",
   "execution_count": null,
   "id": "b439c42c",
   "metadata": {},
   "outputs": [],
   "source": []
  }
 ],
 "metadata": {
  "kernelspec": {
   "display_name": "Python 3 (ipykernel)",
   "language": "python",
   "name": "python3"
  },
  "language_info": {
   "codemirror_mode": {
    "name": "ipython",
    "version": 3
   },
   "file_extension": ".py",
   "mimetype": "text/x-python",
   "name": "python",
   "nbconvert_exporter": "python",
   "pygments_lexer": "ipython3",
   "version": "3.9.12"
  }
 },
 "nbformat": 4,
 "nbformat_minor": 5
}
